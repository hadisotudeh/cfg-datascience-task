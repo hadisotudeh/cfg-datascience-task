{
  "nbformat": 4,
  "nbformat_minor": 0,
  "metadata": {
    "colab": {
      "name": "CFG_Data_Scientist_Task_HadiSotudeh.ipynb",
      "provenance": [],
      "collapsed_sections": [],
      "toc_visible": true,
      "include_colab_link": true
    },
    "kernelspec": {
      "display_name": "Python 3",
      "language": "python",
      "name": "python3"
    },
    "language_info": {
      "codemirror_mode": {
        "name": "ipython",
        "version": 3
      },
      "file_extension": ".py",
      "mimetype": "text/x-python",
      "name": "python",
      "nbconvert_exporter": "python",
      "pygments_lexer": "ipython3",
      "version": "3.8.5"
    },
    "widgets": {
      "application/vnd.jupyter.widget-state+json": {
        "ada4885d9cdb4daa914587df7f8adb78": {
          "model_module": "@jupyter-widgets/controls",
          "model_name": "HBoxModel",
          "state": {
            "_view_name": "HBoxView",
            "_dom_classes": [],
            "_model_name": "HBoxModel",
            "_view_module": "@jupyter-widgets/controls",
            "_model_module_version": "1.5.0",
            "_view_count": null,
            "_view_module_version": "1.5.0",
            "box_style": "",
            "layout": "IPY_MODEL_63ce3ee08b744465bf99607e82999d81",
            "_model_module": "@jupyter-widgets/controls",
            "children": [
              "IPY_MODEL_7c9b720b270443479180962560af8908",
              "IPY_MODEL_cf34e68469ed4ef0994027fba37d8dd2"
            ]
          }
        },
        "63ce3ee08b744465bf99607e82999d81": {
          "model_module": "@jupyter-widgets/base",
          "model_name": "LayoutModel",
          "state": {
            "_view_name": "LayoutView",
            "grid_template_rows": null,
            "right": null,
            "justify_content": null,
            "_view_module": "@jupyter-widgets/base",
            "overflow": null,
            "_model_module_version": "1.2.0",
            "_view_count": null,
            "flex_flow": null,
            "width": null,
            "min_width": null,
            "border": null,
            "align_items": null,
            "bottom": null,
            "_model_module": "@jupyter-widgets/base",
            "top": null,
            "grid_column": null,
            "overflow_y": null,
            "overflow_x": null,
            "grid_auto_flow": null,
            "grid_area": null,
            "grid_template_columns": null,
            "flex": null,
            "_model_name": "LayoutModel",
            "justify_items": null,
            "grid_row": null,
            "max_height": null,
            "align_content": null,
            "visibility": null,
            "align_self": null,
            "height": null,
            "min_height": null,
            "padding": null,
            "grid_auto_rows": null,
            "grid_gap": null,
            "max_width": null,
            "order": null,
            "_view_module_version": "1.2.0",
            "grid_template_areas": null,
            "object_position": null,
            "object_fit": null,
            "grid_auto_columns": null,
            "margin": null,
            "display": null,
            "left": null
          }
        },
        "7c9b720b270443479180962560af8908": {
          "model_module": "@jupyter-widgets/controls",
          "model_name": "FloatProgressModel",
          "state": {
            "_view_name": "ProgressView",
            "style": "IPY_MODEL_d7114151261149bca0f1130495ed7a3a",
            "_dom_classes": [],
            "description": " 80%",
            "_model_name": "FloatProgressModel",
            "bar_style": "",
            "max": 5,
            "_view_module": "@jupyter-widgets/controls",
            "_model_module_version": "1.5.0",
            "value": 5,
            "_view_count": null,
            "_view_module_version": "1.5.0",
            "orientation": "horizontal",
            "min": 0,
            "description_tooltip": null,
            "_model_module": "@jupyter-widgets/controls",
            "layout": "IPY_MODEL_76584213b87d4dd8b66a2502cbf7b482"
          }
        },
        "cf34e68469ed4ef0994027fba37d8dd2": {
          "model_module": "@jupyter-widgets/controls",
          "model_name": "HTMLModel",
          "state": {
            "_view_name": "HTMLView",
            "style": "IPY_MODEL_97309818842b4a458dc80deb68d69992",
            "_dom_classes": [],
            "description": "",
            "_model_name": "HTMLModel",
            "placeholder": "​",
            "_view_module": "@jupyter-widgets/controls",
            "_model_module_version": "1.5.0",
            "value": " 4/5 [05:33&lt;01:15, 75.37s/it]",
            "_view_count": null,
            "_view_module_version": "1.5.0",
            "description_tooltip": null,
            "_model_module": "@jupyter-widgets/controls",
            "layout": "IPY_MODEL_7a0979181932401a87a2e0a6449545eb"
          }
        },
        "d7114151261149bca0f1130495ed7a3a": {
          "model_module": "@jupyter-widgets/controls",
          "model_name": "ProgressStyleModel",
          "state": {
            "_view_name": "StyleView",
            "_model_name": "ProgressStyleModel",
            "description_width": "initial",
            "_view_module": "@jupyter-widgets/base",
            "_model_module_version": "1.5.0",
            "_view_count": null,
            "_view_module_version": "1.2.0",
            "bar_color": null,
            "_model_module": "@jupyter-widgets/controls"
          }
        },
        "76584213b87d4dd8b66a2502cbf7b482": {
          "model_module": "@jupyter-widgets/base",
          "model_name": "LayoutModel",
          "state": {
            "_view_name": "LayoutView",
            "grid_template_rows": null,
            "right": null,
            "justify_content": null,
            "_view_module": "@jupyter-widgets/base",
            "overflow": null,
            "_model_module_version": "1.2.0",
            "_view_count": null,
            "flex_flow": null,
            "width": null,
            "min_width": null,
            "border": null,
            "align_items": null,
            "bottom": null,
            "_model_module": "@jupyter-widgets/base",
            "top": null,
            "grid_column": null,
            "overflow_y": null,
            "overflow_x": null,
            "grid_auto_flow": null,
            "grid_area": null,
            "grid_template_columns": null,
            "flex": null,
            "_model_name": "LayoutModel",
            "justify_items": null,
            "grid_row": null,
            "max_height": null,
            "align_content": null,
            "visibility": null,
            "align_self": null,
            "height": null,
            "min_height": null,
            "padding": null,
            "grid_auto_rows": null,
            "grid_gap": null,
            "max_width": null,
            "order": null,
            "_view_module_version": "1.2.0",
            "grid_template_areas": null,
            "object_position": null,
            "object_fit": null,
            "grid_auto_columns": null,
            "margin": null,
            "display": null,
            "left": null
          }
        },
        "97309818842b4a458dc80deb68d69992": {
          "model_module": "@jupyter-widgets/controls",
          "model_name": "DescriptionStyleModel",
          "state": {
            "_view_name": "StyleView",
            "_model_name": "DescriptionStyleModel",
            "description_width": "",
            "_view_module": "@jupyter-widgets/base",
            "_model_module_version": "1.5.0",
            "_view_count": null,
            "_view_module_version": "1.2.0",
            "_model_module": "@jupyter-widgets/controls"
          }
        },
        "7a0979181932401a87a2e0a6449545eb": {
          "model_module": "@jupyter-widgets/base",
          "model_name": "LayoutModel",
          "state": {
            "_view_name": "LayoutView",
            "grid_template_rows": null,
            "right": null,
            "justify_content": null,
            "_view_module": "@jupyter-widgets/base",
            "overflow": null,
            "_model_module_version": "1.2.0",
            "_view_count": null,
            "flex_flow": null,
            "width": null,
            "min_width": null,
            "border": null,
            "align_items": null,
            "bottom": null,
            "_model_module": "@jupyter-widgets/base",
            "top": null,
            "grid_column": null,
            "overflow_y": null,
            "overflow_x": null,
            "grid_auto_flow": null,
            "grid_area": null,
            "grid_template_columns": null,
            "flex": null,
            "_model_name": "LayoutModel",
            "justify_items": null,
            "grid_row": null,
            "max_height": null,
            "align_content": null,
            "visibility": null,
            "align_self": null,
            "height": null,
            "min_height": null,
            "padding": null,
            "grid_auto_rows": null,
            "grid_gap": null,
            "max_width": null,
            "order": null,
            "_view_module_version": "1.2.0",
            "grid_template_areas": null,
            "object_position": null,
            "object_fit": null,
            "grid_auto_columns": null,
            "margin": null,
            "display": null,
            "left": null
          }
        }
      }
    },
    "accelerator": "GPU"
  },
  "cells": [
    {
      "cell_type": "markdown",
      "metadata": {
        "id": "view-in-github",
        "colab_type": "text"
      },
      "source": [
        "<a href=\"https://colab.research.google.com/github/hadisotudeh/cfg-datascience-task/blob/main/CFG_Data_Scientist_Task_HadiSotudeh.ipynb\" target=\"_parent\"><img src=\"https://colab.research.google.com/assets/colab-badge.svg\" alt=\"Open In Colab\"/></a>"
      ]
    },
    {
      "cell_type": "markdown",
      "metadata": {
        "id": "dRFH97wMDeM9"
      },
      "source": [
        "<center> <h1><b>CFG Data Science Interview Task - Hadi Sotudeh</b></h1> </center>"
      ]
    },
    {
      "cell_type": "markdown",
      "metadata": {
        "id": "gqfFFS3ZoiQw"
      },
      "source": [
        "I make use of `scikit-learn` library in Python.\n"
      ]
    },
    {
      "cell_type": "markdown",
      "metadata": {
        "id": "JT85GTCBcKE0"
      },
      "source": [
        "First, I need to import the relevant libraries, download the dataset, and have them available in Google Colab.\n",
        "</br>\n",
        "</br>\n",
        "It is highly recommended to enable `GPU` on this notebook for quicker computations."
      ]
    },
    {
      "cell_type": "markdown",
      "metadata": {
        "id": "kfnWg1RicYz9"
      },
      "source": [
        "## **Install & import libraries and download datasets**"
      ]
    },
    {
      "cell_type": "code",
      "metadata": {
        "id": "HIKbTfGddmxQ"
      },
      "source": [
        "%%capture\n",
        "# Remove previous files\n",
        "! rm ShotData.csv *.joblib\n",
        "! rm *.py && rm -rf sample_data && rm -rf sample-data\n",
        "\n",
        "# Download the datasets (ShotData.csv and metrica matches)\n",
        "! wget https://www.dropbox.com/s/zpijv8epzrbzifr/ShotData.csv\n",
        "! git clone https://github.com/metrica-sports/sample-data\n",
        "\n",
        "# Clone required functions to read metrica data from LaurieOnTracking repository (Friends of Tracking)\n",
        "! git clone https://github.com/Friends-of-Tracking-Data-FoTD/LaurieOnTracking\n",
        "! mv LaurieOnTracking/Metrica_IO.py ./Metrica_IO.py && mv LaurieOnTracking/Metrica_Viz.py ./Metrica_Viz.py\n",
        "! rm -rf LaurieOnTracking"
      ],
      "execution_count": null,
      "outputs": []
    },
    {
      "cell_type": "code",
      "metadata": {
        "id": "6c3DZyhUcfr6"
      },
      "source": [
        "%%capture\n",
        "\n",
        "# Import Libraries\n",
        "# General libraries\n",
        "from tqdm import tqdm_notebook as tqdm\n",
        "import matplotlib.pyplot as plt\n",
        "import pandas as pd\n",
        "import matplotlib\n",
        "import numpy as np\n",
        "import itertools\n",
        "import warnings\n",
        "import math\n",
        "import os\n",
        "\n",
        "# Machine learning libraries\n",
        "from sklearn.metrics import plot_roc_curve, roc_auc_score, brier_score_loss\n",
        "from sklearn.model_selection import GridSearchCV\n",
        "from sklearn.ensemble import RandomForestClassifier\n",
        "from sklearn.linear_model import LogisticRegression\n",
        "from sklearn.preprocessing import OneHotEncoder\n",
        "from sklearn.model_selection import train_test_split\n",
        "from sklearn.calibration import calibration_curve\n",
        "from sklearn.dummy import DummyClassifier\n",
        "from sklearn.pipeline import Pipeline\n",
        "from lightgbm import LGBMClassifier\n",
        "from xgboost import XGBClassifier\n",
        "import joblib\n",
        "\n",
        "# Model interpretation library\n",
        "from sklearn.inspection import plot_partial_dependence\n",
        "\n",
        "# Metrica functions\n",
        "import Metrica_IO as mio\n",
        "import Metrica_Viz as mviz"
      ],
      "execution_count": null,
      "outputs": []
    },
    {
      "cell_type": "markdown",
      "metadata": {
        "id": "FhUa2YHViI1-"
      },
      "source": [
        "## **Set Global Parameters**"
      ]
    },
    {
      "cell_type": "code",
      "metadata": {
        "id": "laPcAlQuiMgi"
      },
      "source": [
        "# Show plots inside the jupyter notebook\n",
        "%matplotlib inline\n",
        "\n",
        "# Pandas settings to show more columns are rows in the jupyter notebook\n",
        "pd.set_option('display.max_rows', 500)\n",
        "pd.set_option('display.max_columns', 50000)\n",
        "\n",
        "# Increase font size of the plots \n",
        "plt.rcParams.update({'font.size': 18})\n",
        "\n",
        "# Don't show warnings\n",
        "warnings.filterwarnings('ignore')\n",
        "\n",
        "# Dataset file path\n",
        "dataset = \"ShotData.csv\"\n",
        "\n",
        "# Target variable to predict\n",
        "dep_var = \"outcome\"\n",
        "\n",
        "# Hyper-paramter tuning variables\n",
        "cv = 5\n",
        "seed = 42\n",
        "scoring = 'roc_auc'\n",
        "\n",
        "######### This part is copied from https://github.com/Friends-of-Tracking-Data-FoTD/LaurieOnTracking/blob/master/Tutorial1_GettingStarted.py\n",
        "# Set up initial path to data\n",
        "DATADIR = './sample-data/data/'\n",
        "game_id = 2 # let's look at sample match 2\n",
        "\n",
        "home_team = \"Home\"\n",
        "away_team =  \"Away\"\n",
        "\n",
        "pitch_x = 105.\n",
        "pitch_y = 68.\n",
        "\n",
        "meters_per_yard = 0.9144 # unit conversion from yards to meters\n",
        "goal_line_width = 8*meters_per_yard"
      ],
      "execution_count": null,
      "outputs": []
    },
    {
      "cell_type": "markdown",
      "metadata": {
        "id": "O_UF_1q3b0Nr"
      },
      "source": [
        "#**Step 1 - Build an Expected Goal (xG) model**"
      ]
    },
    {
      "cell_type": "markdown",
      "metadata": {
        "id": "5SfzBxqRDeNK"
      },
      "source": [
        "## Load ShotData and Perform Data Cleaning & Feature Engineering"
      ]
    },
    {
      "cell_type": "code",
      "metadata": {
        "colab": {
          "base_uri": "https://localhost:8080/",
          "height": 204
        },
        "id": "Tsmg37-mDeNL",
        "scrolled": true,
        "outputId": "950e6dc5-956e-4871-87f7-aa7b26b12433"
      },
      "source": [
        "# Keep only relevant features and the label (dep_var)\n",
        "cols_to_keep = [\"position_x\",\"position_y\",\"play_type\",\"BodyPart\",\"Number_Intervening_Opponents\",\"Number_Intervening_Teammates\",\"outcome\"]\n",
        "\n",
        "# Read the train file\n",
        "df = pd.read_csv(dataset)[cols_to_keep]\n",
        "\n",
        "# Column preprocessing\n",
        "# Binarize dep_var (goal and non-goal), binarize body type (foot and header)\n",
        "df[\"BodyPart\"] = df[\"BodyPart\"].apply(lambda r: \"Foot\" if r in [\"Left\", \"Right\"] else r) # goal = 1 and else 0\n",
        "\n",
        "# Increase data quality, e.g., play_type has typo (Direct corner and Direct Corner) that need to be mapped to the same value\n",
        "df[\"play_type\"] = df[\"play_type\"].apply(lambda r: \"Direct corner\" if r in [\"Direct corner\", \"Direct Corner\"] else r)\n",
        "\n",
        "\n",
        "# Calculate extra relevant features such as distance and angle\n",
        "\n",
        "# Euclidean distance to center of the goal sqrt(x^2+y^2)\n",
        "df[\"distance\"] = np.sqrt(df[\"position_x\"]**2 + df[\"position_y\"]**2)\n",
        "\n",
        "# Shot angle ot the goal\n",
        "# The angle is arctan(goal_line_width*x/(x^2+y^2-(goal_line_width*/2)^2)), which is in radius and I convert it into degrees next\n",
        "df[\"angle\"] = np.arctan(goal_line_width*df[\"position_x\"]/(df[\"position_x\"]**2+df[\"position_y\"]**2-(goal_line_width/2)**2))\n",
        "df[\"angle\"] = np.rad2deg(df[\"angle\"].apply(lambda alpha: np.pi + alpha if alpha < 0 else alpha))\n",
        "\n",
        "# Rounding the dataframe (2 decimals)\n",
        "df = df.round(2)\n",
        "\n",
        "# Perform one-hot encoding without multicollinearity\n",
        "columns_to_encode = [\"play_type\",\"BodyPart\"]\n",
        "for col in columns_to_encode:\n",
        "  # Prevent multicollinearity\n",
        "  one_hot = pd.get_dummies(df[col], drop_first=True)\n",
        "  # Drop the column as it is now encoded\n",
        "  df = df.drop(col,axis = 1)\n",
        "  # Join the encoded df\n",
        "  df = df.join(one_hot)\n",
        "\n",
        "# Move outcome to the last column\n",
        "features = [x for x in df.columns if x not in [\"position_x\",\"position_y\",dep_var]]\n",
        "df = df[features + [dep_var]]\n",
        "\n",
        "df.head()"
      ],
      "execution_count": null,
      "outputs": [
        {
          "output_type": "execute_result",
          "data": {
            "text/html": [
              "<div>\n",
              "<style scoped>\n",
              "    .dataframe tbody tr th:only-of-type {\n",
              "        vertical-align: middle;\n",
              "    }\n",
              "\n",
              "    .dataframe tbody tr th {\n",
              "        vertical-align: top;\n",
              "    }\n",
              "\n",
              "    .dataframe thead th {\n",
              "        text-align: right;\n",
              "    }\n",
              "</style>\n",
              "<table border=\"1\" class=\"dataframe\">\n",
              "  <thead>\n",
              "    <tr style=\"text-align: right;\">\n",
              "      <th></th>\n",
              "      <th>Number_Intervening_Opponents</th>\n",
              "      <th>Number_Intervening_Teammates</th>\n",
              "      <th>distance</th>\n",
              "      <th>angle</th>\n",
              "      <th>Direct freekick</th>\n",
              "      <th>Open Play</th>\n",
              "      <th>Penalty</th>\n",
              "      <th>Head</th>\n",
              "      <th>Other</th>\n",
              "      <th>outcome</th>\n",
              "    </tr>\n",
              "  </thead>\n",
              "  <tbody>\n",
              "    <tr>\n",
              "      <th>0</th>\n",
              "      <td>1</td>\n",
              "      <td>0</td>\n",
              "      <td>3.33</td>\n",
              "      <td>95.59</td>\n",
              "      <td>0</td>\n",
              "      <td>1</td>\n",
              "      <td>0</td>\n",
              "      <td>1</td>\n",
              "      <td>0</td>\n",
              "      <td>Goal</td>\n",
              "    </tr>\n",
              "    <tr>\n",
              "      <th>1</th>\n",
              "      <td>3</td>\n",
              "      <td>0</td>\n",
              "      <td>24.95</td>\n",
              "      <td>16.67</td>\n",
              "      <td>0</td>\n",
              "      <td>1</td>\n",
              "      <td>0</td>\n",
              "      <td>0</td>\n",
              "      <td>0</td>\n",
              "      <td>Missed</td>\n",
              "    </tr>\n",
              "    <tr>\n",
              "      <th>2</th>\n",
              "      <td>1</td>\n",
              "      <td>0</td>\n",
              "      <td>3.77</td>\n",
              "      <td>88.20</td>\n",
              "      <td>0</td>\n",
              "      <td>1</td>\n",
              "      <td>0</td>\n",
              "      <td>0</td>\n",
              "      <td>0</td>\n",
              "      <td>Missed</td>\n",
              "    </tr>\n",
              "    <tr>\n",
              "      <th>3</th>\n",
              "      <td>4</td>\n",
              "      <td>2</td>\n",
              "      <td>23.07</td>\n",
              "      <td>16.83</td>\n",
              "      <td>1</td>\n",
              "      <td>0</td>\n",
              "      <td>0</td>\n",
              "      <td>0</td>\n",
              "      <td>0</td>\n",
              "      <td>Blocked</td>\n",
              "    </tr>\n",
              "    <tr>\n",
              "      <th>4</th>\n",
              "      <td>1</td>\n",
              "      <td>0</td>\n",
              "      <td>11.38</td>\n",
              "      <td>32.79</td>\n",
              "      <td>0</td>\n",
              "      <td>1</td>\n",
              "      <td>0</td>\n",
              "      <td>1</td>\n",
              "      <td>0</td>\n",
              "      <td>Missed</td>\n",
              "    </tr>\n",
              "  </tbody>\n",
              "</table>\n",
              "</div>"
            ],
            "text/plain": [
              "   Number_Intervening_Opponents  Number_Intervening_Teammates  distance  \\\n",
              "0                             1                             0      3.33   \n",
              "1                             3                             0     24.95   \n",
              "2                             1                             0      3.77   \n",
              "3                             4                             2     23.07   \n",
              "4                             1                             0     11.38   \n",
              "\n",
              "   angle  Direct freekick  Open Play  Penalty  Head  Other  outcome  \n",
              "0  95.59                0          1        0     1      0     Goal  \n",
              "1  16.67                0          1        0     0      0   Missed  \n",
              "2  88.20                0          1        0     0      0   Missed  \n",
              "3  16.83                1          0        0     0      0  Blocked  \n",
              "4  32.79                0          1        0     1      0   Missed  "
            ]
          },
          "metadata": {
            "tags": []
          },
          "execution_count": 4
        }
      ]
    },
    {
      "cell_type": "markdown",
      "metadata": {
        "id": "9vZzT4vmh1F-"
      },
      "source": [
        "Check basic dataset statistics:"
      ]
    },
    {
      "cell_type": "code",
      "metadata": {
        "colab": {
          "base_uri": "https://localhost:8080/"
        },
        "id": "FrfeoLHFh0It",
        "outputId": "f05c2d75-3540-4282-bb93-a289e472475a"
      },
      "source": [
        "is_empty = \"No\"\n",
        "\n",
        "if df.isnull().sum().all():\n",
        "  is_empty = \"Yes\"\n",
        "\n",
        "print(f\"Is there any empty values in the dataset? {is_empty}\\n\")\n",
        "print(f\"There are {df.shape[0]} instances in the dataset.\")"
      ],
      "execution_count": null,
      "outputs": [
        {
          "output_type": "stream",
          "text": [
            "Is there any empty values in the dataset? No\n",
            "\n",
            "There are 10925 instances in the dataset.\n"
          ],
          "name": "stdout"
        }
      ]
    },
    {
      "cell_type": "markdown",
      "metadata": {
        "id": "ZT28w-qCM6tl"
      },
      "source": [
        "Binarize outcome (goals vs. non-goals) and name it `goal`(0 or 1) and print the binarized distribution."
      ]
    },
    {
      "cell_type": "code",
      "metadata": {
        "id": "zjFsz6rkE1LG",
        "colab": {
          "base_uri": "https://localhost:8080/"
        },
        "outputId": "e991f96b-f70b-4f0a-9656-df7b4d8bfeac"
      },
      "source": [
        "df[\"outcome\"] = df[\"outcome\"].apply(lambda r: 1 if r in [\"Goal\", \"owngoal\"] else 0) # goal = 1 and else 0\n",
        "\n",
        "# Change column name from outcome to goal\n",
        "dep_var = \"goal\"\n",
        "df = df.rename(columns={\"outcome\": \"goal\"})\n",
        "\n",
        "distributions = df[dep_var].value_counts(normalize=True)\n",
        "print(f\"Non-Goal percentage is {round(100*distributions[0],2)}% and the Goal percentage is {round(100*distributions[1],2)}%\")"
      ],
      "execution_count": null,
      "outputs": [
        {
          "output_type": "stream",
          "text": [
            "Non-Goal percentage is 87.42% and the Goal percentage is 12.58%\n"
          ],
          "name": "stdout"
        }
      ]
    },
    {
      "cell_type": "markdown",
      "metadata": {
        "id": "DxDr7RSnT6b0"
      },
      "source": [
        "Create Train and validation sets with (80%, 20%)"
      ]
    },
    {
      "cell_type": "code",
      "metadata": {
        "id": "TlqXhMSrgnDI"
      },
      "source": [
        "# Selecting correspondnig columns for training and test stes\n",
        "\n",
        "X = df[features].values\n",
        "y = df[dep_var].values\n",
        "\n",
        "# Spliting train and test sets. 80% for the training and 20% for the test set.\n",
        "xs, valid_xs, y, valid_y = train_test_split(X, y, test_size=0.20, random_state=seed, shuffle=True)"
      ],
      "execution_count": null,
      "outputs": []
    },
    {
      "cell_type": "markdown",
      "metadata": {
        "id": "Hc2qlsHtsFsN"
      },
      "source": [
        "## Define the evaluation metric, train ML Models, and choose the best one"
      ]
    },
    {
      "cell_type": "markdown",
      "metadata": {
        "id": "lHeUZFHLqa-M"
      },
      "source": [
        "Define [AUC ROC](https://en.wikipedia.org/wiki/Receiver_operating_characteristic) as the evaluation metric because the dataset is imbalanced."
      ]
    },
    {
      "cell_type": "code",
      "metadata": {
        "id": "4rmV7EzUGEDl"
      },
      "source": [
        "def calc_auc_roc(y, prob_pred):\n",
        "  return roc_auc_score(y, prob_pred)"
      ],
      "execution_count": null,
      "outputs": []
    },
    {
      "cell_type": "markdown",
      "metadata": {
        "id": "-bKrmHFWRawF"
      },
      "source": [
        "Now, it is time to do the hyper-parameter tuning"
      ]
    },
    {
      "cell_type": "code",
      "metadata": {
        "id": "ukIXAHSARVc_"
      },
      "source": [
        "## Hyperparameters\n",
        "\n",
        "lr_hyperparameters = {\n",
        "    'lr__C': [0.01, 0.1, 1.0, 10, 100]\n",
        "}\n",
        "\n",
        "rf_hyperparameters = {\n",
        "    'rf__n_estimators': np.arange(20,100,10),\n",
        "    'rf__max_features': np.arange(0.5,1.0,0.1),\n",
        "    'rf__max_depth': np.arange(1,20,5),\n",
        "}\n",
        "\n",
        "xgb_hyperparameters = {\n",
        "    'xgb__max_depth': np.arange(2,12,2),  # the maximum depth of each tree\n",
        "    'xgb__learning_rate': [0.1,0.3],  # the training step for each iteration\n",
        "    'xgb__n_estimators': np.arange(1,80,10),\n",
        "}\n",
        "\n",
        "lgbm_hyperparameters = {\n",
        "    'lgbm__n_estimators': np.arange(10,140,20),\n",
        "    'lgbm__min_data_in_leaf': np.arange(100,1000,100),\n",
        "    'lgbm__max_depth': np.arange(2,10,2),\n",
        "\n",
        "}\n",
        "\n",
        "hyperparameters = {\n",
        "    'lr': lr_hyperparameters,\n",
        "    'rf': rf_hyperparameters,\n",
        "    'lgbm': lgbm_hyperparameters,\n",
        "    'xgb': xgb_hyperparameters,\n",
        "}\n",
        "\n",
        "# Pipeline of ML classiferis' pipielines \n",
        "pipelines = {\n",
        "    'bl': Pipeline([('bl', DummyClassifier(strategy='most_frequent'))]), # base line\n",
        "    'lr': Pipeline([('lr',LogisticRegression(random_state=seed, n_jobs=-1, penalty='l2'))]),\n",
        "    'rf': Pipeline([('rf', RandomForestClassifier(random_state=seed, n_jobs=-1, oob_score=True))]),\n",
        "    'xgb': Pipeline([('xgb', XGBClassifier(random_state=seed, n_jobs=-1))]),\n",
        "    'lgbm': Pipeline([('lgbm', LGBMClassifier(random_state=seed, n_jobs=-1))]),\n",
        "}"
      ],
      "execution_count": null,
      "outputs": []
    },
    {
      "cell_type": "code",
      "metadata": {
        "colab": {
          "base_uri": "https://localhost:8080/",
          "height": 805,
          "referenced_widgets": [
            "ada4885d9cdb4daa914587df7f8adb78",
            "63ce3ee08b744465bf99607e82999d81",
            "7c9b720b270443479180962560af8908",
            "cf34e68469ed4ef0994027fba37d8dd2",
            "d7114151261149bca0f1130495ed7a3a",
            "76584213b87d4dd8b66a2502cbf7b482",
            "97309818842b4a458dc80deb68d69992",
            "7a0979181932401a87a2e0a6449545eb"
          ]
        },
        "id": "EXEEEu2feNXX",
        "outputId": "8a09bebe-8a7b-437f-f404-b72c73370837"
      },
      "source": [
        "# Start the training process\n",
        "\n",
        "results = []\n",
        "model_names = {\"bl\":\"Baseline\", \"lr\": \"Logistic Regression\" , \"rf\":\"Random Forest\", \n",
        "               \"xgb\": \"XGBoost\", \"lgbm\": \"Light Gradient Boosting\"}\n",
        "\n",
        "fig, ax =  plt.subplots(figsize=(8, 8))\n",
        "ax.plot([0, 1], [0, 1], \"k:\", label=\"Perfectly calibrated\")\n",
        "\n",
        "for key, pipeline in tqdm(pipelines.items()):\n",
        "  if key == 'bl':\n",
        "      model = pipeline\n",
        "  else:\n",
        "      model = GridSearchCV(pipeline, hyperparameters[key], cv=cv, scoring=scoring, n_jobs=-1)\n",
        "\n",
        "  model.fit(xs,y)\n",
        "\n",
        "  if hasattr(model,'best_estimator_'):\n",
        "      best = model.best_estimator_.named_steps[key]\n",
        "  else:\n",
        "      best = model\n",
        "\n",
        "  result = {}\n",
        "\n",
        "  result[\"model\"] = model_names[key]\n",
        "\n",
        "  train_prob_pred = best.predict_proba(xs)[:,1]\n",
        "\n",
        "  result[\"training (auc roc)\"] = calc_auc_roc(y, train_prob_pred)\n",
        "  \n",
        "  validation_prob_pred = best.predict_proba(valid_xs)[:,1]\n",
        "\n",
        "  result[\"validation (auc roc)\"]  = calc_auc_roc(valid_y, validation_prob_pred)\n",
        "\n",
        "\n",
        "  fraction_of_positives, mean_predicted_value = calibration_curve(valid_y, validation_prob_pred, n_bins=10)\n",
        "\n",
        "  result[\"Brier score\"] = brier_score_loss(valid_y, validation_prob_pred)\n",
        "\n",
        "  results.append(result)\n",
        "\n",
        "  # Do not log calibration information for baseline fitter, as I already have done it.\n",
        "  if key == 'bl':\n",
        "    continue\n",
        "\n",
        "  # Plot the calibration plot  \n",
        "  ax.plot(mean_predicted_value, fraction_of_positives, \"s-\", label=\"%s\" % (model_names[key], ))\n",
        "    \n",
        "  # Save the model\n",
        "  joblib.dump(best, f'{model_names[key]}.joblib')\n",
        "\n",
        "results_df = pd.DataFrame(results).round(3)\n",
        "display(results_df)\n",
        "\n",
        "ax.set_xlabel(\"Mean predicted value\")\n",
        "ax.set_ylabel(\"Fraction of positives\")\n",
        "ax.set_ylim([-0.05, 1.05])\n",
        "ax.legend(loc=\"lower right\")\n",
        "ax.set_title('Calibration plot  (reliability curve)')\n",
        "\n",
        "plt.tight_layout()\n",
        "plt.savefig('calibartion_plot.png', bbox_inches='tight')\n",
        "plt.show()"
      ],
      "execution_count": null,
      "outputs": [
        {
          "output_type": "display_data",
          "data": {
            "application/vnd.jupyter.widget-view+json": {
              "model_id": "ada4885d9cdb4daa914587df7f8adb78",
              "version_major": 2,
              "version_minor": 0
            },
            "text/plain": [
              "HBox(children=(FloatProgress(value=0.0, max=5.0), HTML(value='')))"
            ]
          },
          "metadata": {
            "tags": []
          }
        },
        {
          "output_type": "stream",
          "text": [
            "\n"
          ],
          "name": "stdout"
        },
        {
          "output_type": "display_data",
          "data": {
            "text/html": [
              "<div>\n",
              "<style scoped>\n",
              "    .dataframe tbody tr th:only-of-type {\n",
              "        vertical-align: middle;\n",
              "    }\n",
              "\n",
              "    .dataframe tbody tr th {\n",
              "        vertical-align: top;\n",
              "    }\n",
              "\n",
              "    .dataframe thead th {\n",
              "        text-align: right;\n",
              "    }\n",
              "</style>\n",
              "<table border=\"1\" class=\"dataframe\">\n",
              "  <thead>\n",
              "    <tr style=\"text-align: right;\">\n",
              "      <th></th>\n",
              "      <th>model</th>\n",
              "      <th>training (auc roc)</th>\n",
              "      <th>validation (auc roc)</th>\n",
              "      <th>Brier score</th>\n",
              "    </tr>\n",
              "  </thead>\n",
              "  <tbody>\n",
              "    <tr>\n",
              "      <th>0</th>\n",
              "      <td>Baseline</td>\n",
              "      <td>0.500</td>\n",
              "      <td>0.500</td>\n",
              "      <td>0.129</td>\n",
              "    </tr>\n",
              "    <tr>\n",
              "      <th>1</th>\n",
              "      <td>Logistic Regression</td>\n",
              "      <td>0.793</td>\n",
              "      <td>0.802</td>\n",
              "      <td>0.090</td>\n",
              "    </tr>\n",
              "    <tr>\n",
              "      <th>2</th>\n",
              "      <td>Random Forest</td>\n",
              "      <td>0.836</td>\n",
              "      <td>0.803</td>\n",
              "      <td>0.089</td>\n",
              "    </tr>\n",
              "    <tr>\n",
              "      <th>3</th>\n",
              "      <td>XGBoost</td>\n",
              "      <td>0.808</td>\n",
              "      <td>0.798</td>\n",
              "      <td>0.090</td>\n",
              "    </tr>\n",
              "    <tr>\n",
              "      <th>4</th>\n",
              "      <td>Light Gradient Boosting</td>\n",
              "      <td>0.808</td>\n",
              "      <td>0.802</td>\n",
              "      <td>0.091</td>\n",
              "    </tr>\n",
              "  </tbody>\n",
              "</table>\n",
              "</div>"
            ],
            "text/plain": [
              "                     model  training (auc roc)  validation (auc roc)  \\\n",
              "0                 Baseline               0.500                 0.500   \n",
              "1      Logistic Regression               0.793                 0.802   \n",
              "2            Random Forest               0.836                 0.803   \n",
              "3                  XGBoost               0.808                 0.798   \n",
              "4  Light Gradient Boosting               0.808                 0.802   \n",
              "\n",
              "   Brier score  \n",
              "0        0.129  \n",
              "1        0.090  \n",
              "2        0.089  \n",
              "3        0.090  \n",
              "4        0.091  "
            ]
          },
          "metadata": {
            "tags": []
          }
        },
        {
          "output_type": "display_data",
          "data": {
            "image/png": "[encoded data removed]",
            "text/plain": [
              "<Figure size 576x576 with 1 Axes>"
            ]
          },
          "metadata": {
            "tags": []
          }
        }
      ]
    },
    {
      "cell_type": "markdown",
      "metadata": {
        "id": "iYpANxeBacG9"
      },
      "source": [
        "Select the best model and print its tunned parameters."
      ]
    },
    {
      "cell_type": "code",
      "metadata": {
        "id": "R5oUxCB9yH4j",
        "colab": {
          "base_uri": "https://localhost:8080/"
        },
        "outputId": "8928d4f1-335e-494b-f6db-c6d092e87e54"
      },
      "source": [
        "best_model_name = \"Logistic Regression\"\n",
        "selected_model = joblib.load(f\"{best_model_name}.joblib\")\n",
        "print(f\"selected model is {best_model_name}.\\n\")\n",
        "print(\"Its parameters are:\")\n",
        "selected_model.get_params()"
      ],
      "execution_count": null,
      "outputs": [
        {
          "output_type": "stream",
          "text": [
            "selected model is Logistic Regression.\n",
            "\n",
            "Its parameters are:\n"
          ],
          "name": "stdout"
        },
        {
          "output_type": "execute_result",
          "data": {
            "text/plain": [
              "{'C': 100,\n",
              " 'class_weight': None,\n",
              " 'dual': False,\n",
              " 'fit_intercept': True,\n",
              " 'intercept_scaling': 1,\n",
              " 'l1_ratio': None,\n",
              " 'max_iter': 100,\n",
              " 'multi_class': 'auto',\n",
              " 'n_jobs': -1,\n",
              " 'penalty': 'l2',\n",
              " 'random_state': 42,\n",
              " 'solver': 'lbfgs',\n",
              " 'tol': 0.0001,\n",
              " 'verbose': 0,\n",
              " 'warm_start': False}"
            ]
          },
          "metadata": {
            "tags": []
          },
          "execution_count": 0
        }
      ]
    },
    {
      "cell_type": "code",
      "metadata": {
        "colab": {
          "base_uri": "https://localhost:8080/",
          "height": 480
        },
        "id": "fTwuX8hSGJot",
        "outputId": "31d683a7-2e3a-4073-c9d5-f1afc5464d63"
      },
      "source": [
        "fig, ax =  plt.subplots(figsize=(7, 7))\n",
        "ax.set_title('AUC ROC Curve of the Logistic Regression Model')\n",
        "plot_roc_curve(selected_model, valid_xs, valid_y, ax=ax);"
      ],
      "execution_count": null,
      "outputs": [
        {
          "output_type": "display_data",
          "data": {
            "image/png": "[encoded data removed]",
            "text/plain": [
              "<Figure size 504x504 with 1 Axes>"
            ]
          },
          "metadata": {
            "tags": []
          }
        }
      ]
    },
    {
      "cell_type": "markdown",
      "metadata": {
        "id": "7qSyx17eDeNP"
      },
      "source": [
        "## Interpret the model for knowledge discovery"
      ]
    },
    {
      "cell_type": "markdown",
      "metadata": {
        "id": "AQLlEvcSwQC-"
      },
      "source": [
        "Print the coefficients and intercept of the logistic regression model"
      ]
    },
    {
      "cell_type": "code",
      "metadata": {
        "id": "kcJBs3S56WsO",
        "colab": {
          "base_uri": "https://localhost:8080/",
          "height": 382
        },
        "outputId": "454122c4-c93c-45f7-e0fa-c495bbc108dc"
      },
      "source": [
        "intercept = round(selected_model.intercept_[0],2)\n",
        "print(f\"The model intercept is {intercept}\\n\")\n",
        "\n",
        "coefficients = [round(c,2) for c in selected_model.coef_[0]]\n",
        "\n",
        "print(\"The model coefficients are:\")\n",
        "pd.DataFrame(coefficients, features, columns=['coef']).sort_values(by='coef', ascending=False)"
      ],
      "execution_count": null,
      "outputs": [
        {
          "output_type": "stream",
          "text": [
            "The model intercept is 0.68\n",
            "\n",
            "The model coefficients are:\n"
          ],
          "name": "stdout"
        },
        {
          "output_type": "execute_result",
          "data": {
            "text/html": [
              "<div>\n",
              "<style scoped>\n",
              "    .dataframe tbody tr th:only-of-type {\n",
              "        vertical-align: middle;\n",
              "    }\n",
              "\n",
              "    .dataframe tbody tr th {\n",
              "        vertical-align: top;\n",
              "    }\n",
              "\n",
              "    .dataframe thead th {\n",
              "        text-align: right;\n",
              "    }\n",
              "</style>\n",
              "<table border=\"1\" class=\"dataframe\">\n",
              "  <thead>\n",
              "    <tr style=\"text-align: right;\">\n",
              "      <th></th>\n",
              "      <th>coef</th>\n",
              "    </tr>\n",
              "  </thead>\n",
              "  <tbody>\n",
              "    <tr>\n",
              "      <th>Penalty</th>\n",
              "      <td>1.00</td>\n",
              "    </tr>\n",
              "    <tr>\n",
              "      <th>Direct freekick</th>\n",
              "      <td>0.64</td>\n",
              "    </tr>\n",
              "    <tr>\n",
              "      <th>Number_Intervening_Teammates</th>\n",
              "      <td>0.18</td>\n",
              "    </tr>\n",
              "    <tr>\n",
              "      <th>angle</th>\n",
              "      <td>0.02</td>\n",
              "    </tr>\n",
              "    <tr>\n",
              "      <th>distance</th>\n",
              "      <td>-0.09</td>\n",
              "    </tr>\n",
              "    <tr>\n",
              "      <th>Other</th>\n",
              "      <td>-0.34</td>\n",
              "    </tr>\n",
              "    <tr>\n",
              "      <th>Number_Intervening_Opponents</th>\n",
              "      <td>-0.39</td>\n",
              "    </tr>\n",
              "    <tr>\n",
              "      <th>Head</th>\n",
              "      <td>-0.95</td>\n",
              "    </tr>\n",
              "    <tr>\n",
              "      <th>Open Play</th>\n",
              "      <td>-1.12</td>\n",
              "    </tr>\n",
              "  </tbody>\n",
              "</table>\n",
              "</div>"
            ],
            "text/plain": [
              "                              coef\n",
              "Penalty                       1.00\n",
              "Direct freekick               0.64\n",
              "Number_Intervening_Teammates  0.18\n",
              "angle                         0.02\n",
              "distance                     -0.09\n",
              "Other                        -0.34\n",
              "Number_Intervening_Opponents -0.39\n",
              "Head                         -0.95\n",
              "Open Play                    -1.12"
            ]
          },
          "metadata": {
            "tags": []
          },
          "execution_count": 0
        }
      ]
    },
    {
      "cell_type": "markdown",
      "metadata": {
        "id": "fZ1AtKzFK6m1"
      },
      "source": [
        "1-dimensional partial dependence plots"
      ]
    },
    {
      "cell_type": "code",
      "metadata": {
        "id": "j8wrJ-qJDeNS",
        "scrolled": false,
        "colab": {
          "base_uri": "https://localhost:8080/",
          "height": 1000
        },
        "outputId": "a71311fb-00ed-468d-805c-1aae63f88d3e"
      },
      "source": [
        "explore_cols = [\"angle\", \"distance\", \"Number_Intervening_Opponents\",\"Number_Intervening_Teammates\"]\n",
        "\n",
        "valid_xs_df = pd.DataFrame(valid_xs, columns = features)\n",
        "\n",
        "for index, col in enumerate(explore_cols):\n",
        "    fig,ax = plt.subplots(figsize=(12, 4))\n",
        "    plot_partial_dependence(selected_model, valid_xs_df, [col], grid_resolution=20, ax=ax);"
      ],
      "execution_count": null,
      "outputs": [
        {
          "output_type": "display_data",
          "data": {
            "image/png": "[encoded data removed]",
            "text/plain": [
              "<Figure size 864x288 with 2 Axes>"
            ]
          },
          "metadata": {
            "tags": []
          }
        },
        {
          "output_type": "display_data",
          "data": {
            "image/png": "[encoded data removed]",
            "text/plain": [
              "<Figure size 864x288 with 2 Axes>"
            ]
          },
          "metadata": {
            "tags": []
          }
        },
        {
          "output_type": "display_data",
          "data": {
            "image/png": "[encoded data removed]",
            "text/plain": [
              "<Figure size 864x288 with 2 Axes>"
            ]
          },
          "metadata": {
            "tags": []
          }
        },
        {
          "output_type": "display_data",
          "data": {
            "image/png": "[encoded data removed]",
            "text/plain": [
              "<Figure size 864x288 with 2 Axes>"
            ]
          },
          "metadata": {
            "tags": []
          }
        }
      ]
    },
    {
      "cell_type": "markdown",
      "metadata": {
        "id": "wHCNTkK1d0fT"
      },
      "source": [
        "2-dimensional partial dependence plots\n"
      ]
    },
    {
      "cell_type": "code",
      "metadata": {
        "id": "vOXfxf0vDeNS",
        "scrolled": true,
        "colab": {
          "base_uri": "https://localhost:8080/",
          "height": 1000
        },
        "outputId": "a8e80d52-f27f-4cc2-8d0e-87410106a801"
      },
      "source": [
        "paired_features = [\n",
        "                  (\"angle\",\"distance\"),\n",
        "                  (\"Number_Intervening_Opponents\",\"Number_Intervening_Teammates\"),\n",
        "                  (\"angle\",\"Number_Intervening_Opponents\"),\n",
        "                  (\"distance\",\"Number_Intervening_Opponents\"), \n",
        "                  ]\n",
        "\n",
        "for index, pair in enumerate(paired_features):\n",
        "  fig,ax = plt.subplots(figsize=(8, 8))\n",
        "  plot_partial_dependence(selected_model, valid_xs_df, [pair], grid_resolution=20, ax=ax);"
      ],
      "execution_count": null,
      "outputs": [
        {
          "output_type": "display_data",
          "data": {
            "image/png": "[encoded data removed]",
            "text/plain": [
              "<Figure size 576x576 with 2 Axes>"
            ]
          },
          "metadata": {
            "tags": []
          }
        },
        {
          "output_type": "display_data",
          "data": {
            "image/png": "[encoded data removed]",
            "text/plain": [
              "<Figure size 576x576 with 2 Axes>"
            ]
          },
          "metadata": {
            "tags": []
          }
        },
        {
          "output_type": "display_data",
          "data": {
            "image/png": "[encoded data removed]",
            "text/plain": [
              "<Figure size 576x576 with 2 Axes>"
            ]
          },
          "metadata": {
            "tags": []
          }
        },
        {
          "output_type": "display_data",
          "data": {
            "image/png": "[encoded data removed]",
            "text/plain": [
              "<Figure size 576x576 with 2 Axes>"
            ]
          },
          "metadata": {
            "tags": []
          }
        }
      ]
    },
    {
      "cell_type": "markdown",
      "metadata": {
        "id": "mT_uV7eAeqPR"
      },
      "source": [
        "# **Step 2**"
      ]
    },
    {
      "cell_type": "markdown",
      "metadata": {
        "id": "t_w_cWkFhkkb"
      },
      "source": [
        "## Functions needed to enrich the Metrica Shots based on xG model features (Step 1)\n"
      ]
    },
    {
      "cell_type": "code",
      "metadata": {
        "id": "KBVJ8GynfP-r"
      },
      "source": [
        "def calc_distance(ball, event_team):\n",
        "  \"\"\"Euclidean distance to center of the target goal\"\"\"\n",
        "  ball_x, ball_y = ball\n",
        "  if event_team == home_team:\n",
        "    return np.sqrt((ball_x - (-pitch_x/2))**2 + (ball_y)**2)\n",
        "  else:\n",
        "    return np.sqrt((ball_x - (pitch_x/2))**2 + (ball_y)**2)\n",
        "\n",
        "def calc_angle(ball, event_team):\n",
        "  \"\"\"Shot angle to the goalposts in degrees\"\"\"\n",
        "  ball_x, ball_y = ball\n",
        "\n",
        "  x_distance_to_goal = abs(pitch_x/2 - ball_x)\n",
        "  y_distance_to_goal = abs(ball_y)\n",
        "  \n",
        "  if event_team == home_team:\n",
        "    x_distance_to_goal = abs(ball_x + pitch_x/2)\n",
        "  angle =  np.arctan(goal_line_width*x_distance_to_goal/(x_distance_to_goal**2+y_distance_to_goal**2-(goal_line_width/2)**2))\n",
        "  if angle < 0:\n",
        "    angle = np.pi + angle\n",
        "  return np.rad2deg(angle)\n",
        "\n",
        "def calc_playType(event_pre_Type, event_pre_Subtype):\n",
        "  '''Calculate the play type of a shot'''\n",
        "  # Possible playTypes from xg model ['Open Play', 'Direct freekick', 'Penalty', 'Direct corner']\n",
        "  play_type = \"Open Play\"\n",
        "  if event_pre_Type == \"SET PIECE\":\n",
        "    if event_pre_Subtype in [\"FREE KICK\",\"FREE KICK-RETAKEN\"]:\n",
        "      play_type = \"Direct freekick\"\n",
        "    elif event_pre_Subtype == \"CORNER KICK\":\n",
        "      play_type = \"Direct corner\"\n",
        "    elif event_pre_Subtype == \"PENALTY\":\n",
        "      play_type = \"Penalty\"\n",
        "  return play_type\n",
        "\n",
        "def calc_BodyPart(event_Subtype):\n",
        "  '''Calculate the body type involved in a shot'''\n",
        "  # Assuming all shots are with either head or foot\n",
        "  if \"HEAD\" in event_Subtype:\n",
        "    return \"Head\"\n",
        "  else:\n",
        "    return \"Foot\"\n",
        "\n",
        "def calc_trianlge_area(point1, point2, point3):\n",
        "  \"\"\"Calculate a triangle area with three given points (x,y)\"\"\"\n",
        "\n",
        "  x1, y1 = point1\n",
        "  x2, y2 = point2\n",
        "  x3, y3 = point3\n",
        "\n",
        "  return abs((x1*(y2-y3)+(x2*(y3-y1))+(x3*(y1-y2)))/2)\n",
        "\n",
        "def calc_Number_Intervening(ball, event_player, event_team, frame, frame_team_name):\n",
        "  \"\"\"Calculate whether a player lies inside the triangle between the shooter and the goalposts\"\"\"\n",
        "\n",
        "  number_intervening_players = 0\n",
        "  \n",
        "  goalpost1 = ()\n",
        "  goalpost2 = ()\n",
        "  \n",
        "  if event_team == home_team:\n",
        "    goalpost1 = (-pitch_x/2, goal_line_width/2)\n",
        "    goalpost2 = (-pitch_x/2, -goal_line_width/2)\n",
        "  else:\n",
        "    goalpost1 = (pitch_x/2, goal_line_width/2)\n",
        "    goalpost2 = (pitch_x/2, -goal_line_width/2)\n",
        "\n",
        "  shooter_triangle_area = calc_trianlge_area(ball, goalpost1, goalpost2)\n",
        "\n",
        "  id_range = range(1,15)\n",
        "  if frame_team_name == away_team:\n",
        "    id_range = range(15,27)\n",
        "  \n",
        "  cols = [[f\"{frame_team_name}_{id}_x\",f\"{frame_team_name}_{id}_y\"] for id in id_range]\n",
        "\n",
        "  # If calculating teammates obscuring the goal, remove the action taker player from the list\n",
        "  if event_team == frame_team_name:\n",
        "    cols.remove([f\"{frame_team_name}_{event_player}_x\",f\"{frame_team_name}_{event_player}_y\"])\n",
        "\n",
        "  for col in cols:\n",
        "    playerPoint = tuple(frame[col])\n",
        "    if np.isnan(playerPoint[0]):\n",
        "      continue\n",
        "    player_triangles_areas = calc_trianlge_area(playerPoint, goalpost1, goalpost2) + calc_trianlge_area(playerPoint, goalpost1, ball) + calc_trianlge_area(playerPoint, goalpost2, ball)\n",
        "    if round(shooter_triangle_area) == round(player_triangles_areas):\n",
        "      number_intervening_players = number_intervening_players + 1\n",
        "  return number_intervening_players\n",
        "\n",
        "def calc_goal(event_Subtype):\n",
        "  '''Calculate whether the outcome is goal or not'''\n",
        "  if 'GOAL' in event_Subtype:\n",
        "    return 1\n",
        "  else:\n",
        "    return 0\n",
        "\n",
        "def calc_xG(instance):\n",
        "  '''Predict the goal-scoring probability of a shot by applying the trained model'''\n",
        "  x = instance[features].values.reshape(1,-1)\n",
        "  return round(selected_model.predict_proba(x)[:,1][0],2)"
      ],
      "execution_count": null,
      "outputs": []
    },
    {
      "cell_type": "markdown",
      "metadata": {
        "id": "Jfq2yU0Dhshf"
      },
      "source": [
        "## Find the shot frames and enrich them with defined functions to predict xG values."
      ]
    },
    {
      "cell_type": "code",
      "metadata": {
        "id": "Z4WOXi9JfTf6",
        "colab": {
          "base_uri": "https://localhost:8080/",
          "height": 294
        },
        "outputId": "e84ac166-0b59-442b-88b0-13391bb4f017"
      },
      "source": [
        "# Read the event data\n",
        "events = mio.read_event_data(DATADIR,game_id)\n",
        "\n",
        "# Bit of housekeeping: unit conversion from metric data units to meters\n",
        "events = mio.to_metric_coordinates(events)\n",
        "\n",
        "#### TRACKING DATA ####\n",
        "\n",
        "# READING IN TRACKING DATA\n",
        "tracking_home = mio.tracking_data(DATADIR,game_id,'Home')\n",
        "tracking_away = mio.tracking_data(DATADIR,game_id,'Away')\n",
        "\n",
        "# Convert positions from metrica units to meters \n",
        "tracking_home = mio.to_metric_coordinates(tracking_home)\n",
        "tracking_away = mio.to_metric_coordinates(tracking_away)\n",
        "\n",
        "# Reverse direction of play in the second half \n",
        "# So that home team is always attacking from right->left\n",
        "# And the away team is always attacking from left->right\n",
        "tracking_home,tracking_away,events = mio.to_single_playing_direction(tracking_home,tracking_away,events)\n",
        "\n",
        "# Add a column event 'Minute' to the data frame\n",
        "events['Minute'] = events['Start Time [s]']/60.\n",
        "\n",
        "# Add information abou the previous action\n",
        "events[\"pre_Type\"] = events[\"Type\"].shift(1)\n",
        "events[\"pre_Subtype\"] = events[\"Subtype\"].shift(1)\n",
        "\n",
        "# Create the dataframe required by the xG model\n",
        "xg_features = ['Number_Intervening_Opponents', 'Number_Intervening_Teammates', 'distance', 'angle',\n",
        "               'Direct freekick', 'Open Play', 'Penalty', 'Head', 'Other']\n",
        "\n",
        "instances = []\n",
        "for index, event in events[events.Type==\"SHOT\"].iterrows():\n",
        "  # Extract required information\n",
        "  event_team = event.Team\n",
        "  event_player = event.From.replace(\"Player\",\"\").strip()\n",
        "  event_time_seconds = event[\"Start Time [s]\"]\n",
        "  event_time_minutes = event.Minute\n",
        "  event_Subtype = event.Subtype\n",
        "  event_pre_Type = event.pre_Type\n",
        "  event_pre_Subtype = event.pre_Subtype\n",
        "\n",
        "  frame_number = event[\"Start Frame\"] # get the event frame number\n",
        "  frame_home = tracking_home.loc[frame_number]\n",
        "  frame_away = tracking_away.loc[frame_number]\n",
        "\n",
        "  ball = (frame_home[\"ball_x\"], frame_home[\"ball_y\"])\n",
        "\n",
        "  instance = {}\n",
        "  instance[\"Frame\"] = frame_number\n",
        "  instance[\"team\"] = event_team\n",
        "  instance[\"Start Time [s]\"] =  event_time_seconds\n",
        "  instance[\"Minute\"] = event_time_minutes\n",
        "\n",
        "  if event_team == home_team:\n",
        "    instance[\"Number_Intervening_Opponents\"] = calc_Number_Intervening(ball, event_player, event_team, frame_away, away_team)\n",
        "    instance[\"Number_Intervening_Teammates\"] = calc_Number_Intervening(ball, event_player, event_team, frame_home, home_team)\n",
        "  elif event_team == away_team:\n",
        "    instance[\"Number_Intervening_Opponents\"] = calc_Number_Intervening(ball, event_player, event_team, frame_home, home_team)\n",
        "    instance[\"Number_Intervening_Teammates\"] = calc_Number_Intervening(ball, event_player, event_team, frame_away, away_team)\n",
        "\n",
        "  instance[\"distance\"] = calc_distance(ball, event_team)\n",
        "  instance[\"angle\"] = calc_angle(ball, event_team)\n",
        "  instance[\"BodyPart\"] = calc_BodyPart(event_Subtype)  \n",
        "  instance[\"play_type\"] = calc_playType(event_pre_Type, event_pre_Subtype)\n",
        "  instance[dep_var] = calc_goal(event_Subtype)\n",
        "  instances.append(instance)\n",
        "\n",
        "instances_df = pd.DataFrame(instances)\n",
        "instances_df = instances_df.round(2)\n",
        "\n",
        "# Perform one-hot encoding\n",
        "columns_to_encode = [\"play_type\",\"BodyPart\"]\n",
        "for col in columns_to_encode:\n",
        "  # Prevent multicollinearity\n",
        "  one_hot = pd.get_dummies(instances_df[col])\n",
        "  # Drop the column as it is now encoded\n",
        "  instances_df = instances_df.drop(col,axis = 1)\n",
        "  # Join the encoded df\n",
        "  instances_df = instances_df.join(one_hot)\n",
        "\n",
        "# There us no 'Other' in metrica body part data\n",
        "instances_df[\"Other\"] = 0\n",
        "# Move outcome to the last column\n",
        "instances_df = instances_df[[x for x in instances_df.columns if x not in [dep_var]] + [dep_var]]\n",
        "\n",
        "## Output Expected Goals\n",
        "instances_df['xG'] = instances_df.apply(lambda instance: calc_xG(instance), axis=1)\n",
        "\n",
        "display(instances_df.head())"
      ],
      "execution_count": null,
      "outputs": [
        {
          "output_type": "stream",
          "text": [
            "Reading team: home\n",
            "Reading team: away\n"
          ],
          "name": "stdout"
        },
        {
          "output_type": "display_data",
          "data": {
            "text/html": [
              "<div>\n",
              "<style scoped>\n",
              "    .dataframe tbody tr th:only-of-type {\n",
              "        vertical-align: middle;\n",
              "    }\n",
              "\n",
              "    .dataframe tbody tr th {\n",
              "        vertical-align: top;\n",
              "    }\n",
              "\n",
              "    .dataframe thead th {\n",
              "        text-align: right;\n",
              "    }\n",
              "</style>\n",
              "<table border=\"1\" class=\"dataframe\">\n",
              "  <thead>\n",
              "    <tr style=\"text-align: right;\">\n",
              "      <th></th>\n",
              "      <th>Frame</th>\n",
              "      <th>team</th>\n",
              "      <th>Start Time [s]</th>\n",
              "      <th>Minute</th>\n",
              "      <th>Number_Intervening_Opponents</th>\n",
              "      <th>Number_Intervening_Teammates</th>\n",
              "      <th>distance</th>\n",
              "      <th>angle</th>\n",
              "      <th>Direct freekick</th>\n",
              "      <th>Open Play</th>\n",
              "      <th>Penalty</th>\n",
              "      <th>Foot</th>\n",
              "      <th>Head</th>\n",
              "      <th>Other</th>\n",
              "      <th>goal</th>\n",
              "      <th>xG</th>\n",
              "    </tr>\n",
              "  </thead>\n",
              "  <tbody>\n",
              "    <tr>\n",
              "      <th>0</th>\n",
              "      <td>4419</td>\n",
              "      <td>Home</td>\n",
              "      <td>176.76</td>\n",
              "      <td>2.95</td>\n",
              "      <td>3</td>\n",
              "      <td>0</td>\n",
              "      <td>22.60</td>\n",
              "      <td>10.82</td>\n",
              "      <td>0</td>\n",
              "      <td>1</td>\n",
              "      <td>0</td>\n",
              "      <td>1</td>\n",
              "      <td>0</td>\n",
              "      <td>0</td>\n",
              "      <td>0</td>\n",
              "      <td>0.03</td>\n",
              "    </tr>\n",
              "    <tr>\n",
              "      <th>1</th>\n",
              "      <td>12202</td>\n",
              "      <td>Home</td>\n",
              "      <td>488.08</td>\n",
              "      <td>8.13</td>\n",
              "      <td>1</td>\n",
              "      <td>0</td>\n",
              "      <td>6.07</td>\n",
              "      <td>58.85</td>\n",
              "      <td>0</td>\n",
              "      <td>1</td>\n",
              "      <td>0</td>\n",
              "      <td>1</td>\n",
              "      <td>0</td>\n",
              "      <td>0</td>\n",
              "      <td>1</td>\n",
              "      <td>0.46</td>\n",
              "    </tr>\n",
              "    <tr>\n",
              "      <th>2</th>\n",
              "      <td>16484</td>\n",
              "      <td>Home</td>\n",
              "      <td>659.36</td>\n",
              "      <td>10.99</td>\n",
              "      <td>2</td>\n",
              "      <td>0</td>\n",
              "      <td>15.76</td>\n",
              "      <td>18.88</td>\n",
              "      <td>0</td>\n",
              "      <td>1</td>\n",
              "      <td>0</td>\n",
              "      <td>1</td>\n",
              "      <td>0</td>\n",
              "      <td>0</td>\n",
              "      <td>0</td>\n",
              "      <td>0.10</td>\n",
              "    </tr>\n",
              "    <tr>\n",
              "      <th>3</th>\n",
              "      <td>18515</td>\n",
              "      <td>Away</td>\n",
              "      <td>740.60</td>\n",
              "      <td>12.34</td>\n",
              "      <td>1</td>\n",
              "      <td>1</td>\n",
              "      <td>23.57</td>\n",
              "      <td>15.98</td>\n",
              "      <td>0</td>\n",
              "      <td>1</td>\n",
              "      <td>0</td>\n",
              "      <td>1</td>\n",
              "      <td>0</td>\n",
              "      <td>0</td>\n",
              "      <td>0</td>\n",
              "      <td>0.09</td>\n",
              "    </tr>\n",
              "    <tr>\n",
              "      <th>4</th>\n",
              "      <td>27345</td>\n",
              "      <td>Home</td>\n",
              "      <td>1093.80</td>\n",
              "      <td>18.23</td>\n",
              "      <td>1</td>\n",
              "      <td>0</td>\n",
              "      <td>10.45</td>\n",
              "      <td>33.51</td>\n",
              "      <td>0</td>\n",
              "      <td>1</td>\n",
              "      <td>0</td>\n",
              "      <td>0</td>\n",
              "      <td>1</td>\n",
              "      <td>0</td>\n",
              "      <td>0</td>\n",
              "      <td>0.12</td>\n",
              "    </tr>\n",
              "  </tbody>\n",
              "</table>\n",
              "</div>"
            ],
            "text/plain": [
              "   Frame  team  Start Time [s]  Minute  Number_Intervening_Opponents  \\\n",
              "0   4419  Home          176.76    2.95                             3   \n",
              "1  12202  Home          488.08    8.13                             1   \n",
              "2  16484  Home          659.36   10.99                             2   \n",
              "3  18515  Away          740.60   12.34                             1   \n",
              "4  27345  Home         1093.80   18.23                             1   \n",
              "\n",
              "   Number_Intervening_Teammates  distance  angle  Direct freekick  Open Play  \\\n",
              "0                             0     22.60  10.82                0          1   \n",
              "1                             0      6.07  58.85                0          1   \n",
              "2                             0     15.76  18.88                0          1   \n",
              "3                             1     23.57  15.98                0          1   \n",
              "4                             0     10.45  33.51                0          1   \n",
              "\n",
              "   Penalty  Foot  Head  Other  goal    xG  \n",
              "0        0     1     0      0     0  0.03  \n",
              "1        0     1     0      0     1  0.46  \n",
              "2        0     1     0      0     0  0.10  \n",
              "3        0     1     0      0     0  0.09  \n",
              "4        0     0     1      0     0  0.12  "
            ]
          },
          "metadata": {
            "tags": []
          }
        }
      ]
    },
    {
      "cell_type": "code",
      "metadata": {
        "colab": {
          "base_uri": "https://localhost:8080/",
          "height": 142
        },
        "id": "SyYsjSAobaSq",
        "outputId": "4b0b05e5-4204-4234-c549-a3166e7c3f41"
      },
      "source": [
        "instances_df.groupby(\"team\")[dep_var, \"xG\"].sum()"
      ],
      "execution_count": null,
      "outputs": [
        {
          "output_type": "execute_result",
          "data": {
            "text/html": [
              "<div>\n",
              "<style scoped>\n",
              "    .dataframe tbody tr th:only-of-type {\n",
              "        vertical-align: middle;\n",
              "    }\n",
              "\n",
              "    .dataframe tbody tr th {\n",
              "        vertical-align: top;\n",
              "    }\n",
              "\n",
              "    .dataframe thead th {\n",
              "        text-align: right;\n",
              "    }\n",
              "</style>\n",
              "<table border=\"1\" class=\"dataframe\">\n",
              "  <thead>\n",
              "    <tr style=\"text-align: right;\">\n",
              "      <th></th>\n",
              "      <th>goal</th>\n",
              "      <th>xG</th>\n",
              "    </tr>\n",
              "    <tr>\n",
              "      <th>team</th>\n",
              "      <th></th>\n",
              "      <th></th>\n",
              "    </tr>\n",
              "  </thead>\n",
              "  <tbody>\n",
              "    <tr>\n",
              "      <th>Away</th>\n",
              "      <td>2</td>\n",
              "      <td>2.76</td>\n",
              "    </tr>\n",
              "    <tr>\n",
              "      <th>Home</th>\n",
              "      <td>3</td>\n",
              "      <td>2.07</td>\n",
              "    </tr>\n",
              "  </tbody>\n",
              "</table>\n",
              "</div>"
            ],
            "text/plain": [
              "      goal    xG\n",
              "team            \n",
              "Away     2  2.76\n",
              "Home     3  2.07"
            ]
          },
          "metadata": {
            "tags": []
          },
          "execution_count": 0
        }
      ]
    },
    {
      "cell_type": "code",
      "metadata": {
        "colab": {
          "base_uri": "https://localhost:8080/"
        },
        "id": "L4bg7DXKfpo0",
        "outputId": "000d8458-485a-454f-d78e-b9aea16d9157"
      },
      "source": [
        "# Binning xG\n",
        "\n",
        "def calc_xg_quality(xg):\n",
        "  if xg < 0.07:\n",
        "    return \"poor\"\n",
        "  elif 0.07 <= xg < 0.15:\n",
        "    return \"fair\"\n",
        "  elif 0.15 <= xg < 0.30:\n",
        "    return \"good\"\n",
        "  elif 0.30 <= xg:\n",
        "    return \"very good\"\n",
        "\n",
        "instances_df[\"xG_quality\"] = instances_df[\"xG\"].apply(lambda xg: calc_xg_quality(xg))\n",
        "instances_df.groupby(\"team\")[\"xG_quality\"].value_counts()"
      ],
      "execution_count": null,
      "outputs": [
        {
          "output_type": "execute_result",
          "data": {
            "text/plain": [
              "team  xG_quality\n",
              "Away  very good     4\n",
              "      good          3\n",
              "      fair          2\n",
              "      poor          2\n",
              "Home  poor          5\n",
              "      fair          4\n",
              "      very good     4\n",
              "Name: xG_quality, dtype: int64"
            ]
          },
          "metadata": {
            "tags": []
          },
          "execution_count": 0
        }
      ]
    },
    {
      "cell_type": "code",
      "metadata": {
        "id": "HckicCs5LEyr"
      },
      "source": [
        "# inspird from plot_events in Metrica_Viz\n",
        "def plot_xG(events, MarkerSize, color, figax=None, field_dimen = (105.0,68.0)):\n",
        "    \"\"\" plot_events( events )\n",
        "    \n",
        "    Plots xG shots on a football pitch. event data can be a single or several rows of a data frame. All distances should be in meters.\n",
        "    \n",
        "    Parameters\n",
        "    -----------\n",
        "        events: row (i.e. instant) of the home team tracking data frame\n",
        "        MarkerSize: marker size\n",
        "        color: color of indicator\n",
        "        fig,ax: Can be used to pass in the (fig,ax) objects of a previously generated pitch. Set to (fig,ax) to use an existing figure, or None (the default) to generate a new pitch plot, \n",
        "        field_dimen: tuple containing the length and width of the pitch in meters. Default is (105,68)\n",
        "        \n",
        "    Returrns\n",
        "    -----------\n",
        "       fig,ax : figure and aixs objects (so that other data can be plotted onto the pitch)\n",
        "\n",
        "    \"\"\"\n",
        "\n",
        "    if figax is None: # create new pitch \n",
        "        fig,ax = mviz.plot_pitch( field_dimen = field_dimen )\n",
        "    else: # overlay on a previously generated pitch\n",
        "        fig,ax = figax \n",
        "    for i,row in events.iterrows():\n",
        "          ax.plot( row['Start X'], row['Start Y'], color+'o', alpha=0.5, MarkerSize = MarkerSize)\n",
        "    return fig,ax"
      ],
      "execution_count": null,
      "outputs": []
    },
    {
      "cell_type": "markdown",
      "metadata": {
        "id": "8WDunl7v4wZ_"
      },
      "source": [
        "Plot the shots with their xG values"
      ]
    },
    {
      "cell_type": "code",
      "metadata": {
        "colab": {
          "base_uri": "https://localhost:8080/",
          "height": 469
        },
        "id": "WHL5t34jICIF",
        "outputId": "9895f8fe-1721-4165-c3f5-e97020feaabc"
      },
      "source": [
        "figax = None\n",
        "for index, instance in instances_df.iterrows():\n",
        "  frame_id = instance[\"Frame\"]\n",
        "  team = instance[\"team\"]\n",
        "  xG = instance[\"xG\"]\n",
        "  color = 'r'\n",
        "  if team == away_team:\n",
        "    color = 'b'\n",
        "  MarkerSize= math.ceil(xG*20) + 10\n",
        "  fig,ax = plot_xG(events[(events.Type==\"SHOT\")&(events[\"Start Frame\"]==frame_id)].iloc[-1:], MarkerSize=MarkerSize, color = color, figax=figax)\n",
        "  figax = (fig,ax)"
      ],
      "execution_count": null,
      "outputs": [
        {
          "output_type": "display_data",
          "data": {
            "image/png": "[encoded data removed]",
            "text/plain": [
              "<Figure size 864x576 with 1 Axes>"
            ]
          },
          "metadata": {
            "tags": []
          }
        }
      ]
    },
    {
      "cell_type": "markdown",
      "metadata": {
        "id": "KFtx-9lsiqup"
      },
      "source": [
        "## Explore Cases"
      ]
    },
    {
      "cell_type": "code",
      "metadata": {
        "colab": {
          "base_uri": "https://localhost:8080/",
          "height": 847
        },
        "id": "XDt_VIHdmLtd",
        "outputId": "063b9559-e908-44c9-899e-3a2bd82bab69"
      },
      "source": [
        "instances_df.sort_values(by=[\"xG\"])"
      ],
      "execution_count": null,
      "outputs": [
        {
          "output_type": "execute_result",
          "data": {
            "text/html": [
              "<div>\n",
              "<style scoped>\n",
              "    .dataframe tbody tr th:only-of-type {\n",
              "        vertical-align: middle;\n",
              "    }\n",
              "\n",
              "    .dataframe tbody tr th {\n",
              "        vertical-align: top;\n",
              "    }\n",
              "\n",
              "    .dataframe thead th {\n",
              "        text-align: right;\n",
              "    }\n",
              "</style>\n",
              "<table border=\"1\" class=\"dataframe\">\n",
              "  <thead>\n",
              "    <tr style=\"text-align: right;\">\n",
              "      <th></th>\n",
              "      <th>Frame</th>\n",
              "      <th>team</th>\n",
              "      <th>Start Time [s]</th>\n",
              "      <th>Minute</th>\n",
              "      <th>Number_Intervening_Opponents</th>\n",
              "      <th>Number_Intervening_Teammates</th>\n",
              "      <th>distance</th>\n",
              "      <th>angle</th>\n",
              "      <th>Direct freekick</th>\n",
              "      <th>Open Play</th>\n",
              "      <th>Penalty</th>\n",
              "      <th>Foot</th>\n",
              "      <th>Head</th>\n",
              "      <th>Other</th>\n",
              "      <th>goal</th>\n",
              "      <th>xG</th>\n",
              "      <th>xG_quality</th>\n",
              "    </tr>\n",
              "  </thead>\n",
              "  <tbody>\n",
              "    <tr>\n",
              "      <th>0</th>\n",
              "      <td>4419</td>\n",
              "      <td>Home</td>\n",
              "      <td>176.76</td>\n",
              "      <td>2.95</td>\n",
              "      <td>3</td>\n",
              "      <td>0</td>\n",
              "      <td>22.60</td>\n",
              "      <td>10.82</td>\n",
              "      <td>0</td>\n",
              "      <td>1</td>\n",
              "      <td>0</td>\n",
              "      <td>1</td>\n",
              "      <td>0</td>\n",
              "      <td>0</td>\n",
              "      <td>0</td>\n",
              "      <td>0.03</td>\n",
              "      <td>poor</td>\n",
              "    </tr>\n",
              "    <tr>\n",
              "      <th>5</th>\n",
              "      <td>29754</td>\n",
              "      <td>Home</td>\n",
              "      <td>1190.16</td>\n",
              "      <td>19.84</td>\n",
              "      <td>3</td>\n",
              "      <td>0</td>\n",
              "      <td>25.39</td>\n",
              "      <td>13.83</td>\n",
              "      <td>0</td>\n",
              "      <td>1</td>\n",
              "      <td>0</td>\n",
              "      <td>1</td>\n",
              "      <td>0</td>\n",
              "      <td>0</td>\n",
              "      <td>0</td>\n",
              "      <td>0.03</td>\n",
              "      <td>poor</td>\n",
              "    </tr>\n",
              "    <tr>\n",
              "      <th>9</th>\n",
              "      <td>64772</td>\n",
              "      <td>Away</td>\n",
              "      <td>2590.88</td>\n",
              "      <td>43.18</td>\n",
              "      <td>3</td>\n",
              "      <td>1</td>\n",
              "      <td>24.21</td>\n",
              "      <td>16.99</td>\n",
              "      <td>0</td>\n",
              "      <td>1</td>\n",
              "      <td>0</td>\n",
              "      <td>1</td>\n",
              "      <td>0</td>\n",
              "      <td>0</td>\n",
              "      <td>0</td>\n",
              "      <td>0.04</td>\n",
              "      <td>poor</td>\n",
              "    </tr>\n",
              "    <tr>\n",
              "      <th>19</th>\n",
              "      <td>121027</td>\n",
              "      <td>Home</td>\n",
              "      <td>4841.08</td>\n",
              "      <td>80.68</td>\n",
              "      <td>2</td>\n",
              "      <td>0</td>\n",
              "      <td>22.93</td>\n",
              "      <td>17.66</td>\n",
              "      <td>0</td>\n",
              "      <td>1</td>\n",
              "      <td>0</td>\n",
              "      <td>1</td>\n",
              "      <td>0</td>\n",
              "      <td>0</td>\n",
              "      <td>1</td>\n",
              "      <td>0.05</td>\n",
              "      <td>poor</td>\n",
              "    </tr>\n",
              "    <tr>\n",
              "      <th>18</th>\n",
              "      <td>117218</td>\n",
              "      <td>Home</td>\n",
              "      <td>4688.72</td>\n",
              "      <td>78.15</td>\n",
              "      <td>2</td>\n",
              "      <td>0</td>\n",
              "      <td>14.01</td>\n",
              "      <td>23.45</td>\n",
              "      <td>0</td>\n",
              "      <td>1</td>\n",
              "      <td>0</td>\n",
              "      <td>0</td>\n",
              "      <td>1</td>\n",
              "      <td>0</td>\n",
              "      <td>0</td>\n",
              "      <td>0.05</td>\n",
              "      <td>poor</td>\n",
              "    </tr>\n",
              "    <tr>\n",
              "      <th>11</th>\n",
              "      <td>69887</td>\n",
              "      <td>Away</td>\n",
              "      <td>2795.48</td>\n",
              "      <td>46.59</td>\n",
              "      <td>2</td>\n",
              "      <td>0</td>\n",
              "      <td>24.58</td>\n",
              "      <td>15.25</td>\n",
              "      <td>0</td>\n",
              "      <td>1</td>\n",
              "      <td>0</td>\n",
              "      <td>1</td>\n",
              "      <td>0</td>\n",
              "      <td>0</td>\n",
              "      <td>0</td>\n",
              "      <td>0.05</td>\n",
              "      <td>poor</td>\n",
              "    </tr>\n",
              "    <tr>\n",
              "      <th>7</th>\n",
              "      <td>56079</td>\n",
              "      <td>Home</td>\n",
              "      <td>2243.16</td>\n",
              "      <td>37.39</td>\n",
              "      <td>2</td>\n",
              "      <td>0</td>\n",
              "      <td>12.55</td>\n",
              "      <td>28.47</td>\n",
              "      <td>0</td>\n",
              "      <td>1</td>\n",
              "      <td>0</td>\n",
              "      <td>0</td>\n",
              "      <td>1</td>\n",
              "      <td>0</td>\n",
              "      <td>0</td>\n",
              "      <td>0.06</td>\n",
              "      <td>poor</td>\n",
              "    </tr>\n",
              "    <tr>\n",
              "      <th>10</th>\n",
              "      <td>67067</td>\n",
              "      <td>Home</td>\n",
              "      <td>2682.68</td>\n",
              "      <td>44.71</td>\n",
              "      <td>1</td>\n",
              "      <td>0</td>\n",
              "      <td>22.64</td>\n",
              "      <td>11.07</td>\n",
              "      <td>0</td>\n",
              "      <td>1</td>\n",
              "      <td>0</td>\n",
              "      <td>1</td>\n",
              "      <td>0</td>\n",
              "      <td>0</td>\n",
              "      <td>0</td>\n",
              "      <td>0.07</td>\n",
              "      <td>fair</td>\n",
              "    </tr>\n",
              "    <tr>\n",
              "      <th>23</th>\n",
              "      <td>139891</td>\n",
              "      <td>Home</td>\n",
              "      <td>5595.64</td>\n",
              "      <td>93.26</td>\n",
              "      <td>3</td>\n",
              "      <td>0</td>\n",
              "      <td>31.11</td>\n",
              "      <td>13.40</td>\n",
              "      <td>1</td>\n",
              "      <td>0</td>\n",
              "      <td>0</td>\n",
              "      <td>1</td>\n",
              "      <td>0</td>\n",
              "      <td>0</td>\n",
              "      <td>0</td>\n",
              "      <td>0.09</td>\n",
              "      <td>fair</td>\n",
              "    </tr>\n",
              "    <tr>\n",
              "      <th>3</th>\n",
              "      <td>18515</td>\n",
              "      <td>Away</td>\n",
              "      <td>740.60</td>\n",
              "      <td>12.34</td>\n",
              "      <td>1</td>\n",
              "      <td>1</td>\n",
              "      <td>23.57</td>\n",
              "      <td>15.98</td>\n",
              "      <td>0</td>\n",
              "      <td>1</td>\n",
              "      <td>0</td>\n",
              "      <td>1</td>\n",
              "      <td>0</td>\n",
              "      <td>0</td>\n",
              "      <td>0</td>\n",
              "      <td>0.09</td>\n",
              "      <td>fair</td>\n",
              "    </tr>\n",
              "    <tr>\n",
              "      <th>2</th>\n",
              "      <td>16484</td>\n",
              "      <td>Home</td>\n",
              "      <td>659.36</td>\n",
              "      <td>10.99</td>\n",
              "      <td>2</td>\n",
              "      <td>0</td>\n",
              "      <td>15.76</td>\n",
              "      <td>18.88</td>\n",
              "      <td>0</td>\n",
              "      <td>1</td>\n",
              "      <td>0</td>\n",
              "      <td>1</td>\n",
              "      <td>0</td>\n",
              "      <td>0</td>\n",
              "      <td>0</td>\n",
              "      <td>0.10</td>\n",
              "      <td>fair</td>\n",
              "    </tr>\n",
              "    <tr>\n",
              "      <th>13</th>\n",
              "      <td>86191</td>\n",
              "      <td>Away</td>\n",
              "      <td>3447.64</td>\n",
              "      <td>57.46</td>\n",
              "      <td>2</td>\n",
              "      <td>1</td>\n",
              "      <td>17.32</td>\n",
              "      <td>22.95</td>\n",
              "      <td>0</td>\n",
              "      <td>1</td>\n",
              "      <td>0</td>\n",
              "      <td>1</td>\n",
              "      <td>0</td>\n",
              "      <td>0</td>\n",
              "      <td>0</td>\n",
              "      <td>0.11</td>\n",
              "      <td>fair</td>\n",
              "    </tr>\n",
              "    <tr>\n",
              "      <th>4</th>\n",
              "      <td>27345</td>\n",
              "      <td>Home</td>\n",
              "      <td>1093.80</td>\n",
              "      <td>18.23</td>\n",
              "      <td>1</td>\n",
              "      <td>0</td>\n",
              "      <td>10.45</td>\n",
              "      <td>33.51</td>\n",
              "      <td>0</td>\n",
              "      <td>1</td>\n",
              "      <td>0</td>\n",
              "      <td>0</td>\n",
              "      <td>1</td>\n",
              "      <td>0</td>\n",
              "      <td>0</td>\n",
              "      <td>0.12</td>\n",
              "      <td>fair</td>\n",
              "    </tr>\n",
              "    <tr>\n",
              "      <th>14</th>\n",
              "      <td>90165</td>\n",
              "      <td>Away</td>\n",
              "      <td>3606.60</td>\n",
              "      <td>60.11</td>\n",
              "      <td>1</td>\n",
              "      <td>0</td>\n",
              "      <td>12.81</td>\n",
              "      <td>15.70</td>\n",
              "      <td>0</td>\n",
              "      <td>1</td>\n",
              "      <td>0</td>\n",
              "      <td>1</td>\n",
              "      <td>0</td>\n",
              "      <td>0</td>\n",
              "      <td>0</td>\n",
              "      <td>0.17</td>\n",
              "      <td>good</td>\n",
              "    </tr>\n",
              "    <tr>\n",
              "      <th>16</th>\n",
              "      <td>111758</td>\n",
              "      <td>Away</td>\n",
              "      <td>4470.32</td>\n",
              "      <td>74.51</td>\n",
              "      <td>2</td>\n",
              "      <td>1</td>\n",
              "      <td>11.42</td>\n",
              "      <td>28.46</td>\n",
              "      <td>0</td>\n",
              "      <td>1</td>\n",
              "      <td>0</td>\n",
              "      <td>1</td>\n",
              "      <td>0</td>\n",
              "      <td>0</td>\n",
              "      <td>0</td>\n",
              "      <td>0.19</td>\n",
              "      <td>good</td>\n",
              "    </tr>\n",
              "    <tr>\n",
              "      <th>22</th>\n",
              "      <td>136060</td>\n",
              "      <td>Away</td>\n",
              "      <td>5442.40</td>\n",
              "      <td>90.71</td>\n",
              "      <td>1</td>\n",
              "      <td>0</td>\n",
              "      <td>5.59</td>\n",
              "      <td>63.39</td>\n",
              "      <td>0</td>\n",
              "      <td>1</td>\n",
              "      <td>0</td>\n",
              "      <td>0</td>\n",
              "      <td>1</td>\n",
              "      <td>0</td>\n",
              "      <td>0</td>\n",
              "      <td>0.27</td>\n",
              "      <td>good</td>\n",
              "    </tr>\n",
              "    <tr>\n",
              "      <th>8</th>\n",
              "      <td>63362</td>\n",
              "      <td>Away</td>\n",
              "      <td>2534.48</td>\n",
              "      <td>42.24</td>\n",
              "      <td>0</td>\n",
              "      <td>0</td>\n",
              "      <td>6.76</td>\n",
              "      <td>56.76</td>\n",
              "      <td>0</td>\n",
              "      <td>1</td>\n",
              "      <td>0</td>\n",
              "      <td>0</td>\n",
              "      <td>1</td>\n",
              "      <td>0</td>\n",
              "      <td>0</td>\n",
              "      <td>0.31</td>\n",
              "      <td>very good</td>\n",
              "    </tr>\n",
              "    <tr>\n",
              "      <th>20</th>\n",
              "      <td>124336</td>\n",
              "      <td>Home</td>\n",
              "      <td>4973.44</td>\n",
              "      <td>82.89</td>\n",
              "      <td>0</td>\n",
              "      <td>0</td>\n",
              "      <td>6.70</td>\n",
              "      <td>57.21</td>\n",
              "      <td>0</td>\n",
              "      <td>1</td>\n",
              "      <td>0</td>\n",
              "      <td>0</td>\n",
              "      <td>1</td>\n",
              "      <td>0</td>\n",
              "      <td>0</td>\n",
              "      <td>0.31</td>\n",
              "      <td>very good</td>\n",
              "    </tr>\n",
              "    <tr>\n",
              "      <th>12</th>\n",
              "      <td>73983</td>\n",
              "      <td>Home</td>\n",
              "      <td>2959.32</td>\n",
              "      <td>49.32</td>\n",
              "      <td>1</td>\n",
              "      <td>0</td>\n",
              "      <td>5.18</td>\n",
              "      <td>70.28</td>\n",
              "      <td>0</td>\n",
              "      <td>1</td>\n",
              "      <td>0</td>\n",
              "      <td>0</td>\n",
              "      <td>1</td>\n",
              "      <td>0</td>\n",
              "      <td>1</td>\n",
              "      <td>0.31</td>\n",
              "      <td>very good</td>\n",
              "    </tr>\n",
              "    <tr>\n",
              "      <th>6</th>\n",
              "      <td>53049</td>\n",
              "      <td>Away</td>\n",
              "      <td>2121.96</td>\n",
              "      <td>35.37</td>\n",
              "      <td>1</td>\n",
              "      <td>0</td>\n",
              "      <td>8.48</td>\n",
              "      <td>44.71</td>\n",
              "      <td>0</td>\n",
              "      <td>1</td>\n",
              "      <td>0</td>\n",
              "      <td>1</td>\n",
              "      <td>0</td>\n",
              "      <td>0</td>\n",
              "      <td>1</td>\n",
              "      <td>0.34</td>\n",
              "      <td>very good</td>\n",
              "    </tr>\n",
              "    <tr>\n",
              "      <th>15</th>\n",
              "      <td>98880</td>\n",
              "      <td>Home</td>\n",
              "      <td>3955.20</td>\n",
              "      <td>65.92</td>\n",
              "      <td>1</td>\n",
              "      <td>0</td>\n",
              "      <td>6.23</td>\n",
              "      <td>45.75</td>\n",
              "      <td>0</td>\n",
              "      <td>1</td>\n",
              "      <td>0</td>\n",
              "      <td>1</td>\n",
              "      <td>0</td>\n",
              "      <td>0</td>\n",
              "      <td>0</td>\n",
              "      <td>0.39</td>\n",
              "      <td>very good</td>\n",
              "    </tr>\n",
              "    <tr>\n",
              "      <th>1</th>\n",
              "      <td>12202</td>\n",
              "      <td>Home</td>\n",
              "      <td>488.08</td>\n",
              "      <td>8.13</td>\n",
              "      <td>1</td>\n",
              "      <td>0</td>\n",
              "      <td>6.07</td>\n",
              "      <td>58.85</td>\n",
              "      <td>0</td>\n",
              "      <td>1</td>\n",
              "      <td>0</td>\n",
              "      <td>1</td>\n",
              "      <td>0</td>\n",
              "      <td>0</td>\n",
              "      <td>1</td>\n",
              "      <td>0.46</td>\n",
              "      <td>very good</td>\n",
              "    </tr>\n",
              "    <tr>\n",
              "      <th>21</th>\n",
              "      <td>132570</td>\n",
              "      <td>Away</td>\n",
              "      <td>5302.80</td>\n",
              "      <td>88.38</td>\n",
              "      <td>2</td>\n",
              "      <td>4</td>\n",
              "      <td>20.48</td>\n",
              "      <td>18.66</td>\n",
              "      <td>1</td>\n",
              "      <td>0</td>\n",
              "      <td>0</td>\n",
              "      <td>1</td>\n",
              "      <td>0</td>\n",
              "      <td>0</td>\n",
              "      <td>0</td>\n",
              "      <td>0.47</td>\n",
              "      <td>very good</td>\n",
              "    </tr>\n",
              "    <tr>\n",
              "      <th>17</th>\n",
              "      <td>115009</td>\n",
              "      <td>Away</td>\n",
              "      <td>4600.36</td>\n",
              "      <td>76.67</td>\n",
              "      <td>1</td>\n",
              "      <td>0</td>\n",
              "      <td>11.89</td>\n",
              "      <td>34.00</td>\n",
              "      <td>0</td>\n",
              "      <td>0</td>\n",
              "      <td>1</td>\n",
              "      <td>1</td>\n",
              "      <td>0</td>\n",
              "      <td>0</td>\n",
              "      <td>1</td>\n",
              "      <td>0.72</td>\n",
              "      <td>very good</td>\n",
              "    </tr>\n",
              "  </tbody>\n",
              "</table>\n",
              "</div>"
            ],
            "text/plain": [
              "     Frame  team  Start Time [s]  Minute  Number_Intervening_Opponents  \\\n",
              "0     4419  Home          176.76    2.95                             3   \n",
              "5    29754  Home         1190.16   19.84                             3   \n",
              "9    64772  Away         2590.88   43.18                             3   \n",
              "19  121027  Home         4841.08   80.68                             2   \n",
              "18  117218  Home         4688.72   78.15                             2   \n",
              "11   69887  Away         2795.48   46.59                             2   \n",
              "7    56079  Home         2243.16   37.39                             2   \n",
              "10   67067  Home         2682.68   44.71                             1   \n",
              "23  139891  Home         5595.64   93.26                             3   \n",
              "3    18515  Away          740.60   12.34                             1   \n",
              "2    16484  Home          659.36   10.99                             2   \n",
              "13   86191  Away         3447.64   57.46                             2   \n",
              "4    27345  Home         1093.80   18.23                             1   \n",
              "14   90165  Away         3606.60   60.11                             1   \n",
              "16  111758  Away         4470.32   74.51                             2   \n",
              "22  136060  Away         5442.40   90.71                             1   \n",
              "8    63362  Away         2534.48   42.24                             0   \n",
              "20  124336  Home         4973.44   82.89                             0   \n",
              "12   73983  Home         2959.32   49.32                             1   \n",
              "6    53049  Away         2121.96   35.37                             1   \n",
              "15   98880  Home         3955.20   65.92                             1   \n",
              "1    12202  Home          488.08    8.13                             1   \n",
              "21  132570  Away         5302.80   88.38                             2   \n",
              "17  115009  Away         4600.36   76.67                             1   \n",
              "\n",
              "    Number_Intervening_Teammates  distance  angle  Direct freekick  Open Play  \\\n",
              "0                              0     22.60  10.82                0          1   \n",
              "5                              0     25.39  13.83                0          1   \n",
              "9                              1     24.21  16.99                0          1   \n",
              "19                             0     22.93  17.66                0          1   \n",
              "18                             0     14.01  23.45                0          1   \n",
              "11                             0     24.58  15.25                0          1   \n",
              "7                              0     12.55  28.47                0          1   \n",
              "10                             0     22.64  11.07                0          1   \n",
              "23                             0     31.11  13.40                1          0   \n",
              "3                              1     23.57  15.98                0          1   \n",
              "2                              0     15.76  18.88                0          1   \n",
              "13                             1     17.32  22.95                0          1   \n",
              "4                              0     10.45  33.51                0          1   \n",
              "14                             0     12.81  15.70                0          1   \n",
              "16                             1     11.42  28.46                0          1   \n",
              "22                             0      5.59  63.39                0          1   \n",
              "8                              0      6.76  56.76                0          1   \n",
              "20                             0      6.70  57.21                0          1   \n",
              "12                             0      5.18  70.28                0          1   \n",
              "6                              0      8.48  44.71                0          1   \n",
              "15                             0      6.23  45.75                0          1   \n",
              "1                              0      6.07  58.85                0          1   \n",
              "21                             4     20.48  18.66                1          0   \n",
              "17                             0     11.89  34.00                0          0   \n",
              "\n",
              "    Penalty  Foot  Head  Other  goal    xG xG_quality  \n",
              "0         0     1     0      0     0  0.03       poor  \n",
              "5         0     1     0      0     0  0.03       poor  \n",
              "9         0     1     0      0     0  0.04       poor  \n",
              "19        0     1     0      0     1  0.05       poor  \n",
              "18        0     0     1      0     0  0.05       poor  \n",
              "11        0     1     0      0     0  0.05       poor  \n",
              "7         0     0     1      0     0  0.06       poor  \n",
              "10        0     1     0      0     0  0.07       fair  \n",
              "23        0     1     0      0     0  0.09       fair  \n",
              "3         0     1     0      0     0  0.09       fair  \n",
              "2         0     1     0      0     0  0.10       fair  \n",
              "13        0     1     0      0     0  0.11       fair  \n",
              "4         0     0     1      0     0  0.12       fair  \n",
              "14        0     1     0      0     0  0.17       good  \n",
              "16        0     1     0      0     0  0.19       good  \n",
              "22        0     0     1      0     0  0.27       good  \n",
              "8         0     0     1      0     0  0.31  very good  \n",
              "20        0     0     1      0     0  0.31  very good  \n",
              "12        0     0     1      0     1  0.31  very good  \n",
              "6         0     1     0      0     1  0.34  very good  \n",
              "15        0     1     0      0     0  0.39  very good  \n",
              "1         0     1     0      0     1  0.46  very good  \n",
              "21        0     1     0      0     0  0.47  very good  \n",
              "17        1     1     0      0     1  0.72  very good  "
            ]
          },
          "metadata": {
            "tags": []
          },
          "execution_count": 0
        }
      ]
    },
    {
      "cell_type": "code",
      "metadata": {
        "id": "BL35iGP8fWLH",
        "colab": {
          "base_uri": "https://localhost:8080/",
          "height": 469
        },
        "outputId": "27e9095c-d763-42aa-e53f-282c4f83e752"
      },
      "source": [
        "# Plot a shot taken by the Home team\n",
        "frame_id = 12202\n",
        "fig,ax = mviz.plot_events(events[(events.Type==\"SHOT\")&(events[\"Start Frame\"]==frame_id)].iloc[-1:], indicators = ['Marker','Arrow'], annotate=False, field_dimen = (105.0,68.0))\n",
        "fig,ax = mviz.plot_frame(tracking_home.loc[frame_id], tracking_away.loc[frame_id], field_dimen = (105.0,68.0), figax = (fig,ax) )"
      ],
      "execution_count": null,
      "outputs": [
        {
          "output_type": "display_data",
          "data": {
            "image/png": "[encoded data removed]",
            "text/plain": [
              "<Figure size 864x576 with 1 Axes>"
            ]
          },
          "metadata": {
            "tags": []
          }
        }
      ]
    },
    {
      "cell_type": "code",
      "metadata": {
        "colab": {
          "base_uri": "https://localhost:8080/",
          "height": 469
        },
        "id": "CexyXI2Jm6EB",
        "outputId": "6af8d4c3-c5b3-4f2a-b560-42db141975a2"
      },
      "source": [
        "# Plot a shot taken by the Away team\n",
        "frame_id = 115009\n",
        "fig,ax = mviz.plot_events(events[(events.Type==\"SHOT\")&(events[\"Start Frame\"]==frame_id)].iloc[-1:], indicators = ['Marker','Arrow'], annotate=False, field_dimen = (105.0,68.0))\n",
        "fig,ax = mviz.plot_frame(tracking_home.loc[frame_id], tracking_away.loc[frame_id], field_dimen = (105.0,68.0), figax = (fig,ax) )"
      ],
      "execution_count": null,
      "outputs": [
        {
          "output_type": "display_data",
          "data": {
            "image/png": "[encoded data removed]",
            "text/plain": [
              "<Figure size 864x576 with 1 Axes>"
            ]
          },
          "metadata": {
            "tags": []
          }
        }
      ]
    },
    {
      "cell_type": "markdown",
      "metadata": {
        "id": "VnFO4ziNsm1M"
      },
      "source": [
        "## THE END!"
      ]
    }
  ]
}